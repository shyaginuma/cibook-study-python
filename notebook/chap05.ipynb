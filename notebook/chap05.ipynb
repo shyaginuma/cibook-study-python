{
 "cells": [
  {
   "cell_type": "markdown",
   "metadata": {},
   "source": [
    "# 5章 回帰不連続デザイン（RDD）"
   ]
  },
  {
   "cell_type": "code",
   "execution_count": 1,
   "metadata": {},
   "outputs": [],
   "source": [
    "import warnings\n",
    "warnings.filterwarnings('ignore')\n",
    "import sys\n",
    "sys.path.append('../scripts/')\n",
    "\n",
    "import numpy as np\n",
    "import pandas as pd\n",
    "\n",
    "import rdata\n",
    "from rdd import rdd\n",
    "import statsmodels.api as sm\n",
    "import statsmodels.formula.api as smf\n",
    "from causalimpact import CausalImpact\n",
    "from statsmodels.stats.weightstats import ttest_ind\n",
    "from sklearn.model_selection import train_test_split\n",
    "\n",
    "import seaborn as sns\n",
    "import matplotlib.pyplot as plt\n",
    "\n",
    "from propensity_score_matching import PropensityScoreMatching"
   ]
  },
  {
   "cell_type": "markdown",
   "metadata": {},
   "source": [
    "## 5.2 回帰不連続デザイン（RDD）"
   ]
  },
  {
   "cell_type": "markdown",
   "metadata": {},
   "source": [
    "### 5.2.3 メールによる来訪率の増加効果を分析する"
   ]
  },
  {
   "cell_type": "code",
   "execution_count": 2,
   "metadata": {},
   "outputs": [
    {
     "data": {
      "text/html": [
       "<div>\n",
       "<style scoped>\n",
       "    .dataframe tbody tr th:only-of-type {\n",
       "        vertical-align: middle;\n",
       "    }\n",
       "\n",
       "    .dataframe tbody tr th {\n",
       "        vertical-align: top;\n",
       "    }\n",
       "\n",
       "    .dataframe thead th {\n",
       "        text-align: right;\n",
       "    }\n",
       "</style>\n",
       "<table border=\"1\" class=\"dataframe\">\n",
       "  <thead>\n",
       "    <tr style=\"text-align: right;\">\n",
       "      <th></th>\n",
       "      <th>recency</th>\n",
       "      <th>history_segment</th>\n",
       "      <th>history</th>\n",
       "      <th>mens</th>\n",
       "      <th>womens</th>\n",
       "      <th>zip_code</th>\n",
       "      <th>newbie</th>\n",
       "      <th>channel</th>\n",
       "      <th>segment</th>\n",
       "      <th>visit</th>\n",
       "      <th>conversion</th>\n",
       "      <th>spend</th>\n",
       "    </tr>\n",
       "  </thead>\n",
       "  <tbody>\n",
       "    <tr>\n",
       "      <th>0</th>\n",
       "      <td>10</td>\n",
       "      <td>2) $100 - $200</td>\n",
       "      <td>142.44</td>\n",
       "      <td>1</td>\n",
       "      <td>0</td>\n",
       "      <td>Surburban</td>\n",
       "      <td>0</td>\n",
       "      <td>Phone</td>\n",
       "      <td>Womens E-Mail</td>\n",
       "      <td>0</td>\n",
       "      <td>0</td>\n",
       "      <td>0.0</td>\n",
       "    </tr>\n",
       "    <tr>\n",
       "      <th>1</th>\n",
       "      <td>6</td>\n",
       "      <td>3) $200 - $350</td>\n",
       "      <td>329.08</td>\n",
       "      <td>1</td>\n",
       "      <td>1</td>\n",
       "      <td>Rural</td>\n",
       "      <td>1</td>\n",
       "      <td>Web</td>\n",
       "      <td>No E-Mail</td>\n",
       "      <td>0</td>\n",
       "      <td>0</td>\n",
       "      <td>0.0</td>\n",
       "    </tr>\n",
       "    <tr>\n",
       "      <th>2</th>\n",
       "      <td>7</td>\n",
       "      <td>2) $100 - $200</td>\n",
       "      <td>180.65</td>\n",
       "      <td>0</td>\n",
       "      <td>1</td>\n",
       "      <td>Surburban</td>\n",
       "      <td>1</td>\n",
       "      <td>Web</td>\n",
       "      <td>Womens E-Mail</td>\n",
       "      <td>0</td>\n",
       "      <td>0</td>\n",
       "      <td>0.0</td>\n",
       "    </tr>\n",
       "    <tr>\n",
       "      <th>3</th>\n",
       "      <td>9</td>\n",
       "      <td>5) $500 - $750</td>\n",
       "      <td>675.83</td>\n",
       "      <td>1</td>\n",
       "      <td>0</td>\n",
       "      <td>Rural</td>\n",
       "      <td>1</td>\n",
       "      <td>Web</td>\n",
       "      <td>Mens E-Mail</td>\n",
       "      <td>0</td>\n",
       "      <td>0</td>\n",
       "      <td>0.0</td>\n",
       "    </tr>\n",
       "    <tr>\n",
       "      <th>4</th>\n",
       "      <td>2</td>\n",
       "      <td>1) $0 - $100</td>\n",
       "      <td>45.34</td>\n",
       "      <td>1</td>\n",
       "      <td>0</td>\n",
       "      <td>Urban</td>\n",
       "      <td>0</td>\n",
       "      <td>Web</td>\n",
       "      <td>Womens E-Mail</td>\n",
       "      <td>0</td>\n",
       "      <td>0</td>\n",
       "      <td>0.0</td>\n",
       "    </tr>\n",
       "  </tbody>\n",
       "</table>\n",
       "</div>"
      ],
      "text/plain": [
       "   recency history_segment  history  mens  womens   zip_code  newbie channel  \\\n",
       "0       10  2) $100 - $200   142.44     1       0  Surburban       0   Phone   \n",
       "1        6  3) $200 - $350   329.08     1       1      Rural       1     Web   \n",
       "2        7  2) $100 - $200   180.65     0       1  Surburban       1     Web   \n",
       "3        9  5) $500 - $750   675.83     1       0      Rural       1     Web   \n",
       "4        2    1) $0 - $100    45.34     1       0      Urban       0     Web   \n",
       "\n",
       "         segment  visit  conversion  spend  \n",
       "0  Womens E-Mail      0           0    0.0  \n",
       "1      No E-Mail      0           0    0.0  \n",
       "2  Womens E-Mail      0           0    0.0  \n",
       "3    Mens E-Mail      0           0    0.0  \n",
       "4  Womens E-Mail      0           0    0.0  "
      ]
     },
     "execution_count": 2,
     "metadata": {},
     "output_type": "execute_result"
    }
   ],
   "source": [
    "email_data = pd.read_csv('http://www.minethatdata.com/Kevin_Hillstrom_MineThatData_E-MailAnalytics_DataMiningChallenge_2008.03.20.csv')\n",
    "email_data.head()"
   ]
  },
  {
   "cell_type": "code",
   "execution_count": 3,
   "metadata": {},
   "outputs": [
    {
     "data": {
      "text/html": [
       "<div>\n",
       "<style scoped>\n",
       "    .dataframe tbody tr th:only-of-type {\n",
       "        vertical-align: middle;\n",
       "    }\n",
       "\n",
       "    .dataframe tbody tr th {\n",
       "        vertical-align: top;\n",
       "    }\n",
       "\n",
       "    .dataframe thead th {\n",
       "        text-align: right;\n",
       "    }\n",
       "</style>\n",
       "<table border=\"1\" class=\"dataframe\">\n",
       "  <thead>\n",
       "    <tr style=\"text-align: right;\">\n",
       "      <th></th>\n",
       "      <th>recency</th>\n",
       "      <th>history_segment</th>\n",
       "      <th>history</th>\n",
       "      <th>mens</th>\n",
       "      <th>womens</th>\n",
       "      <th>zip_code</th>\n",
       "      <th>newbie</th>\n",
       "      <th>channel</th>\n",
       "      <th>segment</th>\n",
       "      <th>visit</th>\n",
       "      <th>conversion</th>\n",
       "      <th>spend</th>\n",
       "      <th>treatment</th>\n",
       "      <th>history_log</th>\n",
       "      <th>history_log_grp</th>\n",
       "    </tr>\n",
       "  </thead>\n",
       "  <tbody>\n",
       "    <tr>\n",
       "      <th>1</th>\n",
       "      <td>6</td>\n",
       "      <td>3) $200 - $350</td>\n",
       "      <td>329.08</td>\n",
       "      <td>1</td>\n",
       "      <td>1</td>\n",
       "      <td>Rural</td>\n",
       "      <td>1</td>\n",
       "      <td>Web</td>\n",
       "      <td>No E-Mail</td>\n",
       "      <td>0</td>\n",
       "      <td>0</td>\n",
       "      <td>0.0</td>\n",
       "      <td>0</td>\n",
       "      <td>5.796301</td>\n",
       "      <td>5.8</td>\n",
       "    </tr>\n",
       "    <tr>\n",
       "      <th>3</th>\n",
       "      <td>9</td>\n",
       "      <td>5) $500 - $750</td>\n",
       "      <td>675.83</td>\n",
       "      <td>1</td>\n",
       "      <td>0</td>\n",
       "      <td>Rural</td>\n",
       "      <td>1</td>\n",
       "      <td>Web</td>\n",
       "      <td>Mens E-Mail</td>\n",
       "      <td>0</td>\n",
       "      <td>0</td>\n",
       "      <td>0.0</td>\n",
       "      <td>1</td>\n",
       "      <td>6.515942</td>\n",
       "      <td>6.5</td>\n",
       "    </tr>\n",
       "    <tr>\n",
       "      <th>8</th>\n",
       "      <td>9</td>\n",
       "      <td>5) $500 - $750</td>\n",
       "      <td>675.07</td>\n",
       "      <td>1</td>\n",
       "      <td>1</td>\n",
       "      <td>Rural</td>\n",
       "      <td>1</td>\n",
       "      <td>Phone</td>\n",
       "      <td>Mens E-Mail</td>\n",
       "      <td>0</td>\n",
       "      <td>0</td>\n",
       "      <td>0.0</td>\n",
       "      <td>1</td>\n",
       "      <td>6.514816</td>\n",
       "      <td>6.5</td>\n",
       "    </tr>\n",
       "    <tr>\n",
       "      <th>13</th>\n",
       "      <td>2</td>\n",
       "      <td>2) $100 - $200</td>\n",
       "      <td>101.64</td>\n",
       "      <td>0</td>\n",
       "      <td>1</td>\n",
       "      <td>Urban</td>\n",
       "      <td>0</td>\n",
       "      <td>Web</td>\n",
       "      <td>Mens E-Mail</td>\n",
       "      <td>1</td>\n",
       "      <td>0</td>\n",
       "      <td>0.0</td>\n",
       "      <td>1</td>\n",
       "      <td>4.621437</td>\n",
       "      <td>4.6</td>\n",
       "    </tr>\n",
       "    <tr>\n",
       "      <th>14</th>\n",
       "      <td>4</td>\n",
       "      <td>3) $200 - $350</td>\n",
       "      <td>241.42</td>\n",
       "      <td>0</td>\n",
       "      <td>1</td>\n",
       "      <td>Rural</td>\n",
       "      <td>1</td>\n",
       "      <td>Multichannel</td>\n",
       "      <td>No E-Mail</td>\n",
       "      <td>0</td>\n",
       "      <td>0</td>\n",
       "      <td>0.0</td>\n",
       "      <td>0</td>\n",
       "      <td>5.486538</td>\n",
       "      <td>5.5</td>\n",
       "    </tr>\n",
       "  </tbody>\n",
       "</table>\n",
       "</div>"
      ],
      "text/plain": [
       "    recency history_segment  history  mens  womens zip_code  newbie  \\\n",
       "1         6  3) $200 - $350   329.08     1       1    Rural       1   \n",
       "3         9  5) $500 - $750   675.83     1       0    Rural       1   \n",
       "8         9  5) $500 - $750   675.07     1       1    Rural       1   \n",
       "13        2  2) $100 - $200   101.64     0       1    Urban       0   \n",
       "14        4  3) $200 - $350   241.42     0       1    Rural       1   \n",
       "\n",
       "         channel      segment  visit  conversion  spend  treatment  \\\n",
       "1            Web    No E-Mail      0           0    0.0          0   \n",
       "3            Web  Mens E-Mail      0           0    0.0          1   \n",
       "8          Phone  Mens E-Mail      0           0    0.0          1   \n",
       "13           Web  Mens E-Mail      1           0    0.0          1   \n",
       "14  Multichannel    No E-Mail      0           0    0.0          0   \n",
       "\n",
       "    history_log  history_log_grp  \n",
       "1      5.796301              5.8  \n",
       "3      6.515942              6.5  \n",
       "8      6.514816              6.5  \n",
       "13     4.621437              4.6  \n",
       "14     5.486538              5.5  "
      ]
     },
     "execution_count": 3,
     "metadata": {},
     "output_type": "execute_result"
    }
   ],
   "source": [
    "male_data = email_data[email_data['segment'] != 'Womens E-Mail']\n",
    "male_data['treatment'] = male_data['segment'].map(lambda x: 1 if x == 'Mens E-Mail' else 0)\n",
    "male_data['history_log'] = np.log(male_data['history'])\n",
    "male_data['history_log_grp'] = np.round(male_data['history_log']/0.1)*0.1\n",
    "male_data.head()"
   ]
  },
  {
   "cell_type": "code",
   "execution_count": 4,
   "metadata": {},
   "outputs": [
    {
     "data": {
      "text/html": [
       "<div>\n",
       "<style scoped>\n",
       "    .dataframe tbody tr th:only-of-type {\n",
       "        vertical-align: middle;\n",
       "    }\n",
       "\n",
       "    .dataframe tbody tr th {\n",
       "        vertical-align: top;\n",
       "    }\n",
       "\n",
       "    .dataframe thead th {\n",
       "        text-align: right;\n",
       "    }\n",
       "</style>\n",
       "<table border=\"1\" class=\"dataframe\">\n",
       "  <thead>\n",
       "    <tr style=\"text-align: right;\">\n",
       "      <th></th>\n",
       "      <th>history_log_grp</th>\n",
       "      <th>segment</th>\n",
       "      <th>mean</th>\n",
       "      <th>count</th>\n",
       "    </tr>\n",
       "  </thead>\n",
       "  <tbody>\n",
       "    <tr>\n",
       "      <th>0</th>\n",
       "      <td>3.4</td>\n",
       "      <td>Mens E-Mail</td>\n",
       "      <td>0.146545</td>\n",
       "      <td>2750</td>\n",
       "    </tr>\n",
       "    <tr>\n",
       "      <th>1</th>\n",
       "      <td>3.4</td>\n",
       "      <td>No E-Mail</td>\n",
       "      <td>0.086988</td>\n",
       "      <td>2805</td>\n",
       "    </tr>\n",
       "    <tr>\n",
       "      <th>2</th>\n",
       "      <td>3.5</td>\n",
       "      <td>Mens E-Mail</td>\n",
       "      <td>0.169118</td>\n",
       "      <td>272</td>\n",
       "    </tr>\n",
       "    <tr>\n",
       "      <th>3</th>\n",
       "      <td>3.5</td>\n",
       "      <td>No E-Mail</td>\n",
       "      <td>0.084942</td>\n",
       "      <td>259</td>\n",
       "    </tr>\n",
       "    <tr>\n",
       "      <th>4</th>\n",
       "      <td>3.6</td>\n",
       "      <td>Mens E-Mail</td>\n",
       "      <td>0.158576</td>\n",
       "      <td>309</td>\n",
       "    </tr>\n",
       "  </tbody>\n",
       "</table>\n",
       "</div>"
      ],
      "text/plain": [
       "   history_log_grp      segment      mean  count\n",
       "0              3.4  Mens E-Mail  0.146545   2750\n",
       "1              3.4    No E-Mail  0.086988   2805\n",
       "2              3.5  Mens E-Mail  0.169118    272\n",
       "3              3.5    No E-Mail  0.084942    259\n",
       "4              3.6  Mens E-Mail  0.158576    309"
      ]
     },
     "execution_count": 4,
     "metadata": {},
     "output_type": "execute_result"
    }
   ],
   "source": [
    "male_data_groupby = male_data.groupby(['history_log_grp', 'segment'])['visit'].agg(['mean', 'count']).reset_index()\n",
    "male_data_groupby = male_data_groupby.loc[male_data_groupby['count'] > 10]\n",
    "male_data_groupby.head()"
   ]
  },
  {
   "cell_type": "code",
   "execution_count": 5,
   "metadata": {},
   "outputs": [
    {
     "data": {
      "image/png": "[encoded data removed]",
      "text/plain": [
       "<Figure size 432x288 with 1 Axes>"
      ]
     },
     "metadata": {
      "needs_background": "light"
     },
     "output_type": "display_data"
    }
   ],
   "source": [
    "sns.scatterplot(\n",
    "    data=male_data_groupby,\n",
    "    x='history_log_grp',\n",
    "    y='mean',\n",
    "    hue='segment',\n",
    "    size='count'\n",
    ")\n",
    "\n",
    "plt.grid()"
   ]
  },
  {
   "cell_type": "code",
   "execution_count": 6,
   "metadata": {},
   "outputs": [],
   "source": [
    "threshold_value = 5.5\n",
    "\n",
    "rdd_data = male_data.loc[\n",
    "    ((male_data['history_log'] > threshold_value) & (male_data['segment'] == 'Mens E-Mail')) |\n",
    "    ((male_data['history_log'] <= threshold_value) & (male_data['segment'] == 'No E-Mail'))\n",
    "]"
   ]
  },
  {
   "cell_type": "code",
   "execution_count": 7,
   "metadata": {},
   "outputs": [
    {
     "data": {
      "text/html": [
       "<div>\n",
       "<style scoped>\n",
       "    .dataframe tbody tr th:only-of-type {\n",
       "        vertical-align: middle;\n",
       "    }\n",
       "\n",
       "    .dataframe tbody tr th {\n",
       "        vertical-align: top;\n",
       "    }\n",
       "\n",
       "    .dataframe thead th {\n",
       "        text-align: right;\n",
       "    }\n",
       "</style>\n",
       "<table border=\"1\" class=\"dataframe\">\n",
       "  <thead>\n",
       "    <tr style=\"text-align: right;\">\n",
       "      <th></th>\n",
       "      <th>history_log_grp</th>\n",
       "      <th>segment</th>\n",
       "      <th>mean</th>\n",
       "      <th>count</th>\n",
       "    </tr>\n",
       "  </thead>\n",
       "  <tbody>\n",
       "    <tr>\n",
       "      <th>0</th>\n",
       "      <td>3.4</td>\n",
       "      <td>No E-Mail</td>\n",
       "      <td>0.086988</td>\n",
       "      <td>2805</td>\n",
       "    </tr>\n",
       "    <tr>\n",
       "      <th>1</th>\n",
       "      <td>3.5</td>\n",
       "      <td>No E-Mail</td>\n",
       "      <td>0.084942</td>\n",
       "      <td>259</td>\n",
       "    </tr>\n",
       "    <tr>\n",
       "      <th>2</th>\n",
       "      <td>3.6</td>\n",
       "      <td>No E-Mail</td>\n",
       "      <td>0.094637</td>\n",
       "      <td>317</td>\n",
       "    </tr>\n",
       "    <tr>\n",
       "      <th>3</th>\n",
       "      <td>3.7</td>\n",
       "      <td>No E-Mail</td>\n",
       "      <td>0.073090</td>\n",
       "      <td>301</td>\n",
       "    </tr>\n",
       "    <tr>\n",
       "      <th>4</th>\n",
       "      <td>3.8</td>\n",
       "      <td>No E-Mail</td>\n",
       "      <td>0.078652</td>\n",
       "      <td>356</td>\n",
       "    </tr>\n",
       "  </tbody>\n",
       "</table>\n",
       "</div>"
      ],
      "text/plain": [
       "   history_log_grp    segment      mean  count\n",
       "0              3.4  No E-Mail  0.086988   2805\n",
       "1              3.5  No E-Mail  0.084942    259\n",
       "2              3.6  No E-Mail  0.094637    317\n",
       "3              3.7  No E-Mail  0.073090    301\n",
       "4              3.8  No E-Mail  0.078652    356"
      ]
     },
     "execution_count": 7,
     "metadata": {},
     "output_type": "execute_result"
    }
   ],
   "source": [
    "rdd_data_groupby = rdd_data.groupby(['history_log_grp', 'segment'])['visit'].agg(['mean', 'count']).reset_index()\n",
    "rdd_data_groupby = rdd_data_groupby.loc[rdd_data_groupby['count'] > 10]\n",
    "rdd_data_groupby.head()"
   ]
  },
  {
   "cell_type": "code",
   "execution_count": 8,
   "metadata": {},
   "outputs": [
    {
     "data": {
      "text/plain": [
       "<matplotlib.lines.Line2D at 0x1194d40d0>"
      ]
     },
     "execution_count": 8,
     "metadata": {},
     "output_type": "execute_result"
    },
    {
     "data": {
      "image/png": "[encoded data removed]",
      "text/plain": [
       "<Figure size 432x288 with 1 Axes>"
      ]
     },
     "metadata": {
      "needs_background": "light"
     },
     "output_type": "display_data"
    }
   ],
   "source": [
    "sns.scatterplot(\n",
    "    data=rdd_data_groupby,\n",
    "    x='history_log_grp',\n",
    "    y='mean',\n",
    "    hue='segment',\n",
    "    size='count'\n",
    ")\n",
    "\n",
    "plt.grid()\n",
    "plt.axvline([5.5], color='black', ls=':')"
   ]
  },
  {
   "cell_type": "code",
   "execution_count": 9,
   "metadata": {},
   "outputs": [
    {
     "data": {
      "text/html": [
       "<div>\n",
       "<style scoped>\n",
       "    .dataframe tbody tr th:only-of-type {\n",
       "        vertical-align: middle;\n",
       "    }\n",
       "\n",
       "    .dataframe tbody tr th {\n",
       "        vertical-align: top;\n",
       "    }\n",
       "\n",
       "    .dataframe thead th {\n",
       "        text-align: right;\n",
       "    }\n",
       "</style>\n",
       "<table border=\"1\" class=\"dataframe\">\n",
       "  <thead>\n",
       "    <tr style=\"text-align: right;\">\n",
       "      <th></th>\n",
       "      <th>mean</th>\n",
       "      <th>count</th>\n",
       "    </tr>\n",
       "    <tr>\n",
       "      <th>treatment</th>\n",
       "      <th></th>\n",
       "      <th></th>\n",
       "    </tr>\n",
       "  </thead>\n",
       "  <tbody>\n",
       "    <tr>\n",
       "      <th>0</th>\n",
       "      <td>0.090694</td>\n",
       "      <td>13926</td>\n",
       "    </tr>\n",
       "    <tr>\n",
       "      <th>1</th>\n",
       "      <td>0.224002</td>\n",
       "      <td>7366</td>\n",
       "    </tr>\n",
       "  </tbody>\n",
       "</table>\n",
       "</div>"
      ],
      "text/plain": [
       "               mean  count\n",
       "treatment                 \n",
       "0          0.090694  13926\n",
       "1          0.224002   7366"
      ]
     },
     "execution_count": 9,
     "metadata": {},
     "output_type": "execute_result"
    }
   ],
   "source": [
    "# 集計による比較\n",
    "rdd_data.groupby(['treatment'])['visit'].agg(['mean', 'count'])"
   ]
  },
  {
   "cell_type": "code",
   "execution_count": 10,
   "metadata": {},
   "outputs": [
    {
     "data": {
      "text/html": [
       "<table class=\"simpletable\">\n",
       "<tr>\n",
       "       <td></td>          <th>coef</th>     <th>std err</th>      <th>t</th>      <th>P>|t|</th>  <th>[0.025</th>    <th>0.975]</th>  \n",
       "</tr>\n",
       "<tr>\n",
       "  <th>Intercept</th>   <td>    0.0404</td> <td>    0.016</td> <td>    2.454</td> <td> 0.014</td> <td>    0.008</td> <td>    0.073</td>\n",
       "</tr>\n",
       "<tr>\n",
       "  <th>treatment</th>   <td>    0.1137</td> <td>    0.008</td> <td>   14.240</td> <td> 0.000</td> <td>    0.098</td> <td>    0.129</td>\n",
       "</tr>\n",
       "<tr>\n",
       "  <th>history_log</th> <td>    0.0114</td> <td>    0.004</td> <td>    3.103</td> <td> 0.002</td> <td>    0.004</td> <td>    0.019</td>\n",
       "</tr>\n",
       "</table>"
      ],
      "text/plain": [
       "<class 'statsmodels.iolib.table.SimpleTable'>"
      ]
     },
     "execution_count": 10,
     "metadata": {},
     "output_type": "execute_result"
    }
   ],
   "source": [
    "# 線形回帰による分析\n",
    "rdd_lm_reg = smf.ols(\n",
    "    data=rdd_data,\n",
    "    formula='visit ~ treatment + history_log'\n",
    ").fit()\n",
    "\n",
    "rdd_lm_reg.summary().tables[1]"
   ]
  },
  {
   "cell_type": "code",
   "execution_count": 11,
   "metadata": {},
   "outputs": [],
   "source": [
    "# 非線形回帰による分析\n",
    "for i in range(4):\n",
    "    poly_col_name = 'history_log' + '_' + str(i+1)\n",
    "    interaction_col_name = 'treatment_' + 'history_log' + '_' + str(i+1)\n",
    "    rdd_data[poly_col_name] = (rdd_data['history_log']-threshold_value)**(i+1)\n",
    "    rdd_data[interaction_col_name] = rdd_data[poly_col_name] * rdd_data['treatment']"
   ]
  },
  {
   "cell_type": "code",
   "execution_count": 12,
   "metadata": {},
   "outputs": [
    {
     "data": {
      "text/html": [
       "<table class=\"simpletable\">\n",
       "<tr>\n",
       "             <td></td>                <th>coef</th>     <th>std err</th>      <th>t</th>      <th>P>|t|</th>  <th>[0.025</th>    <th>0.975]</th>  \n",
       "</tr>\n",
       "<tr>\n",
       "  <th>Intercept</th>               <td>    0.1327</td> <td>    0.014</td> <td>    9.654</td> <td> 0.000</td> <td>    0.106</td> <td>    0.160</td>\n",
       "</tr>\n",
       "<tr>\n",
       "  <th>treatment</th>               <td>    0.0741</td> <td>    0.020</td> <td>    3.774</td> <td> 0.000</td> <td>    0.036</td> <td>    0.113</td>\n",
       "</tr>\n",
       "<tr>\n",
       "  <th>history_log_1</th>           <td>    0.1522</td> <td>    0.092</td> <td>    1.661</td> <td> 0.097</td> <td>   -0.027</td> <td>    0.332</td>\n",
       "</tr>\n",
       "<tr>\n",
       "  <th>history_log_2</th>           <td>    0.1877</td> <td>    0.178</td> <td>    1.056</td> <td> 0.291</td> <td>   -0.161</td> <td>    0.536</td>\n",
       "</tr>\n",
       "<tr>\n",
       "  <th>history_log_3</th>           <td>    0.1068</td> <td>    0.126</td> <td>    0.847</td> <td> 0.397</td> <td>   -0.140</td> <td>    0.354</td>\n",
       "</tr>\n",
       "<tr>\n",
       "  <th>history_log_4</th>           <td>    0.0224</td> <td>    0.029</td> <td>    0.769</td> <td> 0.442</td> <td>   -0.035</td> <td>    0.079</td>\n",
       "</tr>\n",
       "<tr>\n",
       "  <th>treatment_history_log_1</th> <td>   -0.0406</td> <td>    0.135</td> <td>   -0.300</td> <td> 0.764</td> <td>   -0.306</td> <td>    0.225</td>\n",
       "</tr>\n",
       "<tr>\n",
       "  <th>treatment_history_log_2</th> <td>   -0.3928</td> <td>    0.271</td> <td>   -1.449</td> <td> 0.147</td> <td>   -0.924</td> <td>    0.139</td>\n",
       "</tr>\n",
       "<tr>\n",
       "  <th>treatment_history_log_3</th> <td>    0.0278</td> <td>    0.198</td> <td>    0.140</td> <td> 0.888</td> <td>   -0.360</td> <td>    0.415</td>\n",
       "</tr>\n",
       "<tr>\n",
       "  <th>treatment_history_log_4</th> <td>   -0.0484</td> <td>    0.047</td> <td>   -1.032</td> <td> 0.302</td> <td>   -0.140</td> <td>    0.044</td>\n",
       "</tr>\n",
       "</table>"
      ],
      "text/plain": [
       "<class 'statsmodels.iolib.table.SimpleTable'>"
      ]
     },
     "execution_count": 12,
     "metadata": {},
     "output_type": "execute_result"
    }
   ],
   "source": [
    "nonlinear_rdd_ord4 = smf.ols(\n",
    "    data=rdd_data,\n",
    "    formula='''\n",
    "        visit ~ treatment + history_log_1 + history_log_2 + history_log_3 + history_log_4 + \n",
    "                treatment_history_log_1 + treatment_history_log_2 + treatment_history_log_3 + treatment_history_log_4\n",
    "    '''\n",
    ").fit()\n",
    "\n",
    "nonlinear_rdd_ord4.summary().tables[1]"
   ]
  },
  {
   "cell_type": "markdown",
   "metadata": {},
   "source": [
    "## 5.3 nonparametric RDD"
   ]
  },
  {
   "cell_type": "code",
   "execution_count": 13,
   "metadata": {},
   "outputs": [],
   "source": [
    "# 利用するデータの範囲と推定結果のプロット\n",
    "bound_list = [i/100 for i in range(2, 101)]\n",
    "result_data = pd.DataFrame()\n",
    "for i, bound in enumerate(bound_list):\n",
    "    out_data = rdd_data[rdd_data['history_log'].between(5.5-bound, 5.5+bound)]\n",
    "    out_data_groupby = out_data.groupby('treatment')['visit'].describe()\n",
    "    late = out_data_groupby['mean'].values[1] - out_data_groupby['mean'].values[0]\n",
    "    n = sum(out_data_groupby['count'])\n",
    "    se = np.sqrt(sum(out_data_groupby['mean']**2))/np.sqrt(n)\n",
    "    result_data = pd.concat([result_data, pd.DataFrame({'late': late, 'bound': bound, 'n': n, 'se': se}, index=[i])])"
   ]
  },
  {
   "cell_type": "code",
   "execution_count": 14,
   "metadata": {},
   "outputs": [],
   "source": [
    "result_data['lower_interval'] = result_data['late'] - result_data['se']*1.96\n",
    "result_data['upper_interval'] = result_data['late'] + result_data['se']*1.96"
   ]
  },
  {
   "cell_type": "code",
   "execution_count": 15,
   "metadata": {},
   "outputs": [
    {
     "data": {
      "image/png": "[encoded data removed]",
      "text/plain": [
       "<Figure size 432x288 with 1 Axes>"
      ]
     },
     "metadata": {
      "needs_background": "light"
     },
     "output_type": "display_data"
    }
   ],
   "source": [
    "ax = sns.lineplot(data=result_data, x='bound', y='late', color='blue')\n",
    "ax = sns.lineplot(data=result_data, x='bound', y='lower_interval', color='lightblue')\n",
    "ax = sns.lineplot(data=result_data, x='bound', y='upper_interval', color='lightblue')\n",
    "\n",
    "ax.lines[1].set_linestyle(\"--\")\n",
    "ax.lines[2].set_linestyle(\"--\")\n",
    "plt.grid()"
   ]
  },
  {
   "cell_type": "markdown",
   "metadata": {},
   "source": [
    "### 5.3.2 nonparametric RDDの実装"
   ]
  },
  {
   "cell_type": "code",
   "execution_count": 16,
   "metadata": {},
   "outputs": [
    {
     "name": "stdout",
     "output_type": "stream",
     "text": [
      "Optimal bandwidth: 0.6942601178278147\n"
     ]
    }
   ],
   "source": [
    "bandwidth_opt = rdd.optimal_bandwidth(rdd_data['visit'], rdd_data['history_log'], cut=threshold_value)\n",
    "print(\"Optimal bandwidth:\", bandwidth_opt)"
   ]
  },
  {
   "cell_type": "code",
   "execution_count": 17,
   "metadata": {},
   "outputs": [],
   "source": [
    "data_rdd = rdd.truncated_data(rdd_data, 'history_log', bandwidth_opt, cut=threshold_value)"
   ]
  },
  {
   "cell_type": "code",
   "execution_count": 18,
   "metadata": {},
   "outputs": [
    {
     "data": {
      "text/html": [
       "<table class=\"simpletable\">\n",
       "<tr>\n",
       "             <td></td>                <th>coef</th>     <th>std err</th>      <th>t</th>      <th>P>|t|</th>  <th>[0.025</th>    <th>0.975]</th>  \n",
       "</tr>\n",
       "<tr>\n",
       "  <th>Intercept</th>               <td>    0.1385</td> <td>    0.026</td> <td>    5.335</td> <td> 0.000</td> <td>    0.088</td> <td>    0.189</td>\n",
       "</tr>\n",
       "<tr>\n",
       "  <th>treatment</th>               <td>    0.0765</td> <td>    0.037</td> <td>    2.092</td> <td> 0.036</td> <td>    0.005</td> <td>    0.148</td>\n",
       "</tr>\n",
       "<tr>\n",
       "  <th>history_log_1</th>           <td>    0.3670</td> <td>    0.514</td> <td>    0.714</td> <td> 0.475</td> <td>   -0.641</td> <td>    1.375</td>\n",
       "</tr>\n",
       "<tr>\n",
       "  <th>history_log_2</th>           <td>    1.6993</td> <td>    3.002</td> <td>    0.566</td> <td> 0.571</td> <td>   -4.185</td> <td>    7.583</td>\n",
       "</tr>\n",
       "<tr>\n",
       "  <th>history_log_3</th>           <td>    3.4643</td> <td>    6.490</td> <td>    0.534</td> <td> 0.594</td> <td>   -9.258</td> <td>   16.186</td>\n",
       "</tr>\n",
       "<tr>\n",
       "  <th>history_log_4</th>           <td>    2.2943</td> <td>    4.638</td> <td>    0.495</td> <td> 0.621</td> <td>   -6.797</td> <td>   11.386</td>\n",
       "</tr>\n",
       "<tr>\n",
       "  <th>treatment_history_log_1</th> <td>   -0.3851</td> <td>    0.735</td> <td>   -0.524</td> <td> 0.600</td> <td>   -1.826</td> <td>    1.055</td>\n",
       "</tr>\n",
       "<tr>\n",
       "  <th>treatment_history_log_2</th> <td>   -1.7551</td> <td>    4.319</td> <td>   -0.406</td> <td> 0.684</td> <td>  -10.221</td> <td>    6.711</td>\n",
       "</tr>\n",
       "<tr>\n",
       "  <th>treatment_history_log_3</th> <td>   -2.5272</td> <td>    9.377</td> <td>   -0.270</td> <td> 0.788</td> <td>  -20.908</td> <td>   15.853</td>\n",
       "</tr>\n",
       "<tr>\n",
       "  <th>treatment_history_log_4</th> <td>   -3.3742</td> <td>    6.721</td> <td>   -0.502</td> <td> 0.616</td> <td>  -16.548</td> <td>    9.799</td>\n",
       "</tr>\n",
       "</table>"
      ],
      "text/plain": [
       "<class 'statsmodels.iolib.table.SimpleTable'>"
      ]
     },
     "execution_count": 18,
     "metadata": {},
     "output_type": "execute_result"
    }
   ],
   "source": [
    "rdd_result = smf.ols(\n",
    "    data=data_rdd,\n",
    "    formula='''visit ~ treatment + history_log_1 + history_log_2 + history_log_3 + history_log_4 + \n",
    "                treatment_history_log_1 + treatment_history_log_2 + treatment_history_log_3 + treatment_history_log_4'''\n",
    ").fit()\n",
    "\n",
    "rdd_result.summary().tables[1]"
   ]
  }
 ],
 "metadata": {
  "kernelspec": {
   "display_name": "Python 3",
   "language": "python",
   "name": "python3"
  },
  "language_info": {
   "codemirror_mode": {
    "name": "ipython",
    "version": 3
   },
   "file_extension": ".py",
   "mimetype": "text/x-python",
   "name": "python",
   "nbconvert_exporter": "python",
   "pygments_lexer": "ipython3",
   "version": "3.7.6"
  }
 },
 "nbformat": 4,
 "nbformat_minor": 4
}
